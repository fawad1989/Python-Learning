{
 "metadata": {
  "language_info": {
   "codemirror_mode": {
    "name": "ipython",
    "version": 3
   },
   "file_extension": ".py",
   "mimetype": "text/x-python",
   "name": "python",
   "nbconvert_exporter": "python",
   "pygments_lexer": "ipython3",
   "version": "3.8.5-final"
  },
  "orig_nbformat": 2,
  "kernelspec": {
   "name": "python3",
   "display_name": "Python 3.8.5 64-bit",
   "metadata": {
    "interpreter": {
     "hash": "31f2aee4e71d21fbe5cf8b01ff0e069b9275f58929596ceb00d14d90e3e16cd6"
    }
   }
  }
 },
 "nbformat": 4,
 "nbformat_minor": 2,
 "cells": [
  {
   "source": [
    "# Pandas Series"
   ],
   "cell_type": "markdown",
   "metadata": {}
  },
  {
   "cell_type": "code",
   "execution_count": 92,
   "metadata": {},
   "outputs": [],
   "source": [
    "import numpy as np \n",
    "import pandas as pd "
   ]
  },
  {
   "cell_type": "code",
   "execution_count": 93,
   "metadata": {},
   "outputs": [
    {
     "output_type": "execute_result",
     "data": {
      "text/plain": [
       "0    2\n",
       "dtype: int64"
      ]
     },
     "metadata": {},
     "execution_count": 93
    }
   ],
   "source": [
    "s1 = pd.Series(2)\n",
    "s1"
   ]
  },
  {
   "cell_type": "code",
   "execution_count": 94,
   "metadata": {},
   "outputs": [
    {
     "output_type": "stream",
     "name": "stdout",
     "text": [
      "0    0\n1    1\n2    2\n3    3\n4    4\n5    5\n6    6\n7    7\n8    8\ndtype: int64\nIndex: RangeIndex(start=0, stop=9, step=1)\nValues: [0 1 2 3 4 5 6 7 8]\n"
     ]
    }
   ],
   "source": [
    "s2 = pd.Series(np.arange(9))\n",
    "print(s2)\n",
    "print('Index:', s2.index)\n",
    "print('Values:', s2.values)"
   ]
  },
  {
   "cell_type": "code",
   "execution_count": 95,
   "metadata": {},
   "outputs": [
    {
     "output_type": "stream",
     "name": "stdout",
     "text": [
      "0    a\n1    b\n2    c\ndtype: object\n"
     ]
    }
   ],
   "source": [
    "s3 = pd.Series(['a','b','c'], index = [[i for i in range(3)]])\n",
    "print(s3)"
   ]
  },
  {
   "cell_type": "code",
   "execution_count": 96,
   "metadata": {},
   "outputs": [
    {
     "output_type": "stream",
     "name": "stdout",
     "text": [
      "a    1\nb    2\nc    3\ndtype: int64\nIndex= Index(['a', 'b', 'c'], dtype='object')\nValues= [1 2 3]\n"
     ]
    }
   ],
   "source": [
    "s3 = pd.Series([1,2,3], index = ['a','b','c'])\n",
    "print(s3)\n",
    "print('Index=',s3.index)\n",
    "print('Values=',s3.values)"
   ]
  },
  {
   "cell_type": "code",
   "execution_count": 97,
   "metadata": {},
   "outputs": [
    {
     "output_type": "stream",
     "name": "stdout",
     "text": [
      "s3[1]: 2\ns3[1] index: b\ns3[1] values: 2\ns3[1] value by label or index: 1\ns3[1] value by label or index: 2\n"
     ]
    }
   ],
   "source": [
    "# indexing\n",
    "\n",
    "print('s3[1]:',s3[1]) # will only give the value of the series\n",
    "print('s3[1] index:',s3.index[1]) # will give index of the series's location\n",
    "print('s3[1] values:',s3.values[1]) # will give the value of that index\n",
    "\n",
    "# Indexing by index or label\n",
    "\n",
    "print('s3[1] value by label or index:',s3['a'])\n",
    "print('s3[1] value by label or index:',s3['b'])"
   ]
  },
  {
   "cell_type": "code",
   "execution_count": 98,
   "metadata": {},
   "outputs": [
    {
     "output_type": "stream",
     "name": "stdout",
     "text": [
      "A    1\nB    2\nC    3\ndtype: int64\n---------------\n1    a\n2    b\n3    c\ndtype: object\n---------------\n1    a\n2    b\n3    c\ndtype: object\n"
     ]
    }
   ],
   "source": [
    "# creating series by using a dictionary\n",
    "\n",
    "s4 = pd.Series({'A':1, 'B':2, 'C':3}) # index is string and value is integer\n",
    "print(s4)\n",
    "print('---------------')\n",
    "s4 = pd.Series({1:'a',2:'b',3:'c'}) # index is integer and value is string\n",
    "print(s4)\n",
    "print('---------------')\n",
    "s4 = pd.Series({'1':'a','2':'b','3':'c'}) # index is string and value is string\n",
    "print(s4)"
   ]
  },
  {
   "source": [
    "<h3>Size, shape, uniqueness, and counts of values</h3>"
   ],
   "cell_type": "markdown",
   "metadata": {}
  },
  {
   "cell_type": "code",
   "execution_count": 99,
   "metadata": {},
   "outputs": [
    {
     "output_type": "execute_result",
     "data": {
      "text/plain": [
       "a     0\n",
       "b     1\n",
       "c     2\n",
       "d     3\n",
       "e     4\n",
       "f     5\n",
       "g     6\n",
       "h     7\n",
       "i     8\n",
       "j     9\n",
       "k    10\n",
       "l    11\n",
       "m    12\n",
       "n    13\n",
       "o    14\n",
       "p    15\n",
       "q    16\n",
       "r    17\n",
       "s    18\n",
       "t    19\n",
       "u    20\n",
       "v    21\n",
       "w    22\n",
       "x    23\n",
       "y    24\n",
       "z    25\n",
       "dtype: int64"
      ]
     },
     "metadata": {},
     "execution_count": 99
    }
   ],
   "source": [
    "alpha_list = [] \n",
    "alpha = 'a'\n",
    "for i in range(0, 26): \n",
    "    alpha_list.append(alpha) \n",
    "    alpha = chr(ord(alpha) + 1)  # getting ASCII code\n",
    "s = pd.Series([i for i in range(26)], index = alpha_list)\n",
    "s"
   ]
  },
  {
   "cell_type": "code",
   "execution_count": 100,
   "metadata": {},
   "outputs": [
    {
     "output_type": "stream",
     "name": "stdout",
     "text": [
      "Length: 26\nSize: 26\nShape: (26,)\nCount: 26\nUnique Value: [ 0  1  2  3  4  5  6  7  8  9 10 11 12 13 14 15 16 17 18 19 20 21 22 23\n 24 25]\nCounts:\n 25    1\n24    1\n1     1\n2     1\n3     1\n4     1\n5     1\n6     1\n7     1\n8     1\n9     1\n10    1\n11    1\n12    1\n13    1\n14    1\n15    1\n16    1\n17    1\n18    1\n19    1\n20    1\n21    1\n22    1\n23    1\n0     1\ndtype: int64\n"
     ]
    }
   ],
   "source": [
    "print('Length:',len(s)) # len of the series\n",
    "print('Size:',s.size) # size of the series\n",
    "print('Shape:',s.shape) # shape of the series, it will be only rows\n",
    "print('Count:',s.count()) # count of things in series\n",
    "print('Unique Value:',s.unique()) # give out each value and if multiple give them just once\n",
    "print('Counts:\\n',s.value_counts()) # count of every value"
   ]
  },
  {
   "cell_type": "code",
   "execution_count": 101,
   "metadata": {},
   "outputs": [
    {
     "output_type": "stream",
     "name": "stdout",
     "text": [
      "a    0\nb    1\nc    2\nd    3\ne    4\ndtype: int64\na    0\nb    1\nc    2\nd    3\ne    4\nf    5\ndtype: int64\n"
     ]
    }
   ],
   "source": [
    "# .head() >> will give the top 5 value and their index by default but can be given particular range\n",
    "\n",
    "a = s.head()\n",
    "b = s.head(n = 6)\n",
    "print(a)\n",
    "print(b)\n"
   ]
  },
  {
   "cell_type": "code",
   "execution_count": 102,
   "metadata": {},
   "outputs": [
    {
     "output_type": "stream",
     "name": "stdout",
     "text": [
      "v    21\nw    22\nx    23\ny    24\nz    25\ndtype: int64\nu    20\nv    21\nw    22\nx    23\ny    24\nz    25\ndtype: int64\n"
     ]
    }
   ],
   "source": [
    "# tail() command >> will give the bottom 5 value and their index by default but can be given particular range\n",
    "a = s.tail()\n",
    "b = s.tail(n = 6)\n",
    "print(a)\n",
    "print(b)\n"
   ]
  },
  {
   "cell_type": "code",
   "execution_count": 103,
   "metadata": {},
   "outputs": [
    {
     "output_type": "stream",
     "name": "stdout",
     "text": [
      "j    9\nd    3\nj    9\ndtype: int64\nc    2\ndtype: int64\n"
     ]
    }
   ],
   "source": [
    "# .take() command return the rows based on the input list \n",
    "c = s.take([9,3,9])\n",
    "d = s.take([2])\n",
    "print(c)\n",
    "print(d)"
   ]
  },
  {
   "source": [
    "# Indexing though the series using series label "
   ],
   "cell_type": "markdown",
   "metadata": {}
  },
  {
   "cell_type": "code",
   "execution_count": 104,
   "metadata": {},
   "outputs": [
    {
     "output_type": "stream",
     "name": "stdout",
     "text": [
      "a    1\nb    2\nc    3\ndtype: int64\n1\na    1\nc    3\ndtype: int64\n"
     ]
    }
   ],
   "source": [
    "# just like numpy, the index or indexes of the values can be selected.\n",
    "s3 = pd.Series([1,2,3], index = ['a','b','c'])\n",
    "print(s3)\n",
    "# lookup by index (label)\n",
    "print(s3['a'])\n",
    "print(s3[['a','c']]) # a list of list because we are giving a group of indexes"
   ]
  },
  {
   "cell_type": "code",
   "execution_count": 105,
   "metadata": {},
   "outputs": [
    {
     "output_type": "stream",
     "name": "stdout",
     "text": [
      "a    1\nb    2\nc    3\ndtype: int64\n-----------\na    False\nb     True\nc     True\ndtype: bool\ns3*2: a    2\nb    4\nc    6\ndtype: int64\ns3+ s3: a    2\nb    4\nc    6\ndtype: int64\ns3 - s3: a    0\nb    0\nc    0\ndtype: int64\ns3/2: a    0.5\nb    1.0\nc    1.5\ndtype: float64\ns3^2: a    1\nb    4\nc    9\ndtype: int64\ne^s3: a     2.718282\nb     7.389056\nc    20.085537\ndtype: float64\n"
     ]
    }
   ],
   "source": [
    "# Some numpy operation such as filtering with boolean, scalar multiplication or math functions\n",
    "\n",
    "print(s3)\n",
    "print('-----------')\n",
    "print(s3>1) # value and index whose value is greater than 2\n",
    "# Mathoperations\n",
    "print('s3*2:', s3*2) \n",
    "print('s3+ s3:',s3 + s3)\n",
    "print('s3 - s3:',s3 - s3)\n",
    "print('s3/2:',s3/2)\n",
    "print('s3^2:',s3 ** 2)\n",
    "print('e^s3:',np.exp(s3))"
   ]
  },
  {
   "cell_type": "code",
   "execution_count": 106,
   "metadata": {},
   "outputs": [
    {
     "output_type": "stream",
     "name": "stdout",
     "text": [
      "Fawad    1\nAali     2\ndtype: int64\n"
     ]
    }
   ],
   "source": [
    "# Series can also be made by a dictionary\n",
    "# The index of the dictionary become index of the series and the value of the dictionary become value of the series\n",
    "\n",
    "data = { 'Fawad':1, 'Aali':2}\n",
    "s = pd.Series(data)\n",
    "print(s)"
   ]
  },
  {
   "cell_type": "code",
   "execution_count": 107,
   "metadata": {},
   "outputs": [
    {
     "output_type": "stream",
     "name": "stdout",
     "text": [
      "Fawad    1.0\nAali     2.0\nPadre    NaN\nMaa      NaN\nBaji     NaN\ndtype: float64\n"
     ]
    }
   ],
   "source": [
    "# Adding more index and values in the series\n",
    "index = ['Fawad', 'Aali', 'Padre', 'Maa', 'Baji']\n",
    "s1 = pd.Series(data, index = index)\n",
    "print(s1)\n",
    "# Because there is no value associated with some of the index, the values will be NaN (Not a number) >> its has a memory location address but no value"
   ]
  },
  {
   "cell_type": "code",
   "execution_count": 108,
   "metadata": {},
   "outputs": [
    {
     "output_type": "stream",
     "name": "stdout",
     "text": [
      "Fawad    False\nAali     False\nPadre     True\nMaa       True\nBaji      True\ndtype: bool\n-----------\nFawad     True\nAali      True\nPadre    False\nMaa      False\nBaji     False\ndtype: bool\n"
     ]
    }
   ],
   "source": [
    "# Some pd function related to NaN to find missing data\n",
    "# these functions also have instance methods >> s1.notnull()\n",
    "print(pd.isnull(s1)) # True is value is NaN else False\n",
    "print('-----------')\n",
    "print(pd.notnull(s1)) # True is value not Nan else False"
   ]
  },
  {
   "cell_type": "code",
   "execution_count": 109,
   "metadata": {},
   "outputs": [
    {
     "output_type": "execute_result",
     "data": {
      "text/plain": [
       "Aali     4.0\n",
       "Baji     NaN\n",
       "Fawad    2.0\n",
       "Maa      NaN\n",
       "Padre    NaN\n",
       "dtype: float64"
      ]
     },
     "metadata": {},
     "execution_count": 109
    }
   ],
   "source": [
    "s2 = s + s1\n",
    "s2"
   ]
  },
  {
   "cell_type": "code",
   "execution_count": 110,
   "metadata": {},
   "outputs": [
    {
     "output_type": "stream",
     "name": "stdout",
     "text": [
      "Aali     4.0\nBaji     NaN\nFawad    2.0\nMaa      NaN\nPadre    NaN\nName: Family, dtype: float64\n-------------\nMembers\nAali     4.0\nBaji     NaN\nFawad    2.0\nMaa      NaN\nPadre    NaN\nName: Family, dtype: float64\n"
     ]
    }
   ],
   "source": [
    " s2.name = \"Family\" # The series now has a name\n",
    " print(s2)\n",
    " print('-------------')\n",
    " s2.index.name = \"Members\" # The index name is now members\n",
    " print(s2)"
   ]
  },
  {
   "cell_type": "code",
   "execution_count": 111,
   "metadata": {},
   "outputs": [
    {
     "output_type": "stream",
     "name": "stdout",
     "text": [
      "Karachi     1000\nLahore      2000\nPeshawar    5000\ndtype: int64\n"
     ]
    }
   ],
   "source": [
    "# Practice\n",
    "city_data = {'Karachi':1000, 'Lahore':2000, 'Peshawar':5000}\n",
    "s1 = pd.Series(city_data)\n",
    "print(s1)"
   ]
  },
  {
   "cell_type": "code",
   "execution_count": 112,
   "metadata": {},
   "outputs": [
    {
     "output_type": "stream",
     "name": "stdout",
     "text": [
      "Karachi      1000.0\nLahore       2000.0\nPeshawar     5000.0\nQuetta          NaN\nIslamabad       NaN\nHyderabad       NaN\ndtype: float64\n"
     ]
    }
   ],
   "source": [
    "states = ['Karachi', 'Lahore', 'Peshawar','Quetta', 'Islamabad', 'Hyderabad']\n",
    "s2 = pd.Series(s1, index = states)\n",
    "print(s2)"
   ]
  },
  {
   "cell_type": "code",
   "execution_count": 113,
   "metadata": {},
   "outputs": [
    {
     "output_type": "stream",
     "name": "stdout",
     "text": [
      "City\nKarachi      1000.0\nLahore       2000.0\nPeshawar     5000.0\nQuetta          NaN\nIslamabad       NaN\nHyderabad       NaN\nName: Population, dtype: float64\n"
     ]
    }
   ],
   "source": [
    "s2.name = 'Population'\n",
    "s2.index.name = 'City'\n",
    "print(s2)"
   ]
  },
  {
   "source": [
    "# Indexing in Panda Series"
   ],
   "cell_type": "markdown",
   "metadata": {}
  },
  {
   "cell_type": "code",
   "execution_count": 114,
   "metadata": {},
   "outputs": [
    {
     "output_type": "stream",
     "name": "stdout",
     "text": [
      "City\nKarachi      1000.0\nLahore       2000.0\nPeshawar     5000.0\nQuetta          NaN\nIslamabad       NaN\nHyderabad       NaN\nName: Population, dtype: float64\n-----------\nPrinting Single index: 1000.0\n-------------\nPrinting multiple index: City\nKarachi    1000.0\nQuetta        NaN\nName: Population, dtype: float64\n"
     ]
    }
   ],
   "source": [
    "print(s2)\n",
    "print('-----------')\n",
    "# indexing by index\n",
    "print('Printing Single index:',s2['Karachi'])\n",
    "print('-------------')\n",
    "print('Printing multiple index:',s2[['Karachi', 'Quetta']])"
   ]
  },
  {
   "cell_type": "code",
   "execution_count": 115,
   "metadata": {},
   "outputs": [
    {
     "output_type": "stream",
     "name": "stdout",
     "text": [
      "City\nKarachi      1000.0\nLahore       2000.0\nPeshawar     5000.0\nQuetta          NaN\nIslamabad       NaN\nHyderabad       NaN\nName: Population, dtype: float64\n------------\nIndex by single Poisition: 1000.0\n--------------\nIndex by multiple Poisitions: City\nKarachi      1000.0\nLahore       2000.0\nKarachi      1000.0\nIslamabad       NaN\nName: Population, dtype: float64\n"
     ]
    }
   ],
   "source": [
    "# Looking by position\n",
    "print(s2)\n",
    "print('------------')\n",
    "# As index is not integer so position\n",
    "print('Index by single Poisition:', s2[0])\n",
    "print('--------------')\n",
    "#Multiple Position\n",
    "print('Index by multiple Poisitions:', s2[[0,1,0,4]])"
   ]
  },
  {
   "cell_type": "code",
   "execution_count": 116,
   "metadata": {},
   "outputs": [
    {
     "output_type": "stream",
     "name": "stdout",
     "text": [
      "4    A\n5    B\n6    C\ndtype: object\n"
     ]
    }
   ],
   "source": [
    "# Series whose index does not start from Zero (0)\n",
    "s = pd.Series(['A','B','C'], index = [4,5,6])\n",
    "print(s)"
   ]
  },
  {
   "source": [
    "# Label Vs Position Look up"
   ],
   "cell_type": "markdown",
   "metadata": {}
  },
  {
   "cell_type": "code",
   "execution_count": 117,
   "metadata": {},
   "outputs": [
    {
     "output_type": "stream",
     "name": "stdout",
     "text": [
      "A\n------------\n"
     ]
    }
   ],
   "source": [
    "# for above series index (label) starts at 4\n",
    "# if label and index are not compatible meaning that the index and label do not start at zero and other number (in our case 4), calling a value by position will not work as the index do not match\n",
    "print(s[4]) # Label look up will result A\n",
    "print('------------')\n",
    "# print(s[0]) # will give error as the index does not exist"
   ]
  },
  {
   "cell_type": "code",
   "execution_count": 118,
   "metadata": {},
   "outputs": [
    {
     "output_type": "stream",
     "name": "stdout",
     "text": [
      "4    A\n5    B\n6    C\ndtype: object\n---------\nA\n---------\n4    A\n5    B\ndtype: object\n---------\nA\n---------\n4    A\n6    C\ndtype: object\n"
     ]
    }
   ],
   "source": [
    "print(s)\n",
    "print('---------')\n",
    "# if data is to be taken out by the usual python index then below function is used\n",
    "print(s.loc[4]) # >> will print A >> works with label based look up \n",
    "print('---------')\n",
    "print(s.loc[[4,5]])\n",
    "print('---------')\n",
    "# BUT if python indexing is to be used\n",
    "print(s.iloc[0]) # it will not care for the index of the series rather will get data as the python index starting form 0\n",
    "print('---------')\n",
    "print(s.iloc[[0,2]])"
   ]
  },
  {
   "source": [
    "# Alignment via index labels\n",
    "\n",
    "Pandas can align data of series with another based on the index of the seres"
   ],
   "cell_type": "markdown",
   "metadata": {}
  },
  {
   "cell_type": "code",
   "execution_count": 119,
   "metadata": {},
   "outputs": [
    {
     "output_type": "stream",
     "name": "stdout",
     "text": [
      "s1:\na    1\nb    2\nc    3\nd    4\ndtype: int64\n-----------\ns2:\nd    4\nc    3\nb    2\na    1\ndtype: int64\n"
     ]
    }
   ],
   "source": [
    "s1 = pd.Series([1,2,3,4], index = ['a','b','c','d'])\n",
    "s2 = pd.Series([4,3,2,1], index = ['d','c','b','a'])\n",
    "print('s1:')\n",
    "print(s1)\n",
    "print('-----------')\n",
    "print('s2:')\n",
    "print(s2)"
   ]
  },
  {
   "cell_type": "code",
   "execution_count": 120,
   "metadata": {},
   "outputs": [
    {
     "output_type": "stream",
     "name": "stdout",
     "text": [
      "s3 = s1 + s2\na    2\nb    4\nc    6\nd    8\ndtype: int64\n----------------\ns3 = s1 - s2\na    0\nb    0\nc    0\nd    0\ndtype: int64\n----------------\ns3 = s1 * s2\na     1\nb     4\nc     9\nd    16\ndtype: int64\n----------------\ns3 = s1 / s2\na    1.0\nb    1.0\nc    1.0\nd    1.0\ndtype: float64\n"
     ]
    }
   ],
   "source": [
    "#adding the two series >> index wise addition or subtraction, multiplication and division\n",
    "\n",
    "s3 = s1 + s2\n",
    "print(\"s3 = s1 + s2\")\n",
    "print(s3)\n",
    "print('----------------')\n",
    "s3 = s1 - s2\n",
    "print(\"s3 = s1 - s2\")\n",
    "print(s3)\n",
    "print('----------------')\n",
    "s3 = s1 * s2\n",
    "print(\"s3 = s1 * s2\")\n",
    "print(s3)\n",
    "print('----------------')\n",
    "s3 = s1 / s2\n",
    "print(\"s3 = s1 / s2\")\n",
    "print(s3)"
   ]
  },
  {
   "source": [
    " <h3>Nan + number = NaN </h3>      (NaN added to a number results in NaN)\n",
    "    \n",
    "<h3>number + NaN = NaN</h3>        (Number added to a Nan results in NaN)"
   ],
   "cell_type": "markdown",
   "metadata": {}
  },
  {
   "cell_type": "code",
   "execution_count": 121,
   "metadata": {},
   "outputs": [
    {
     "output_type": "stream",
     "name": "stdout",
     "text": [
      "a    1\nb    2\nc    3\nd    4\ndtype: int64\nb    5\nc    6\nd    7\ne    8\nf    9\ndtype: int64\n"
     ]
    }
   ],
   "source": [
    "s1 = pd.Series({'a':1,'b':2,'c':3,'d':4})\n",
    "s2 = pd.Series({'b':5,'c':6,'d':7,'e':8,'f':9})\n",
    "print(s1)\n",
    "print(s2)"
   ]
  },
  {
   "cell_type": "code",
   "execution_count": 122,
   "metadata": {},
   "outputs": [
    {
     "output_type": "stream",
     "name": "stdout",
     "text": [
      "a     NaN\nb     7.0\nc     9.0\nd    11.0\ne     NaN\nf     NaN\ndtype: float64\n"
     ]
    }
   ],
   "source": [
    "s3 = s1 + s2\n",
    "print(s3)"
   ]
  },
  {
   "cell_type": "code",
   "execution_count": 123,
   "metadata": {},
   "outputs": [
    {
     "output_type": "stream",
     "name": "stdout",
     "text": [
      "a    2.0\na    3.0\na    3.0\na    4.0\nb    NaN\nc    NaN\ndtype: float64\n"
     ]
    }
   ],
   "source": [
    "s1 = pd.Series([1,2,3], index = ['a','a','b'])\n",
    "s2 = pd.Series([1,2,3], index = ['a','a','c'])\n",
    "\n",
    "s3 = s1 + s2 # if same index is for multiple values in series or serieses,\n",
    "# if any operation is performed, all combination of same indexes are performed. that is why in s3 there are 4 index a\n",
    "print(s3)"
   ]
  },
  {
   "source": [
    "# Special NaN case"
   ],
   "cell_type": "markdown",
   "metadata": {}
  },
  {
   "cell_type": "code",
   "execution_count": 124,
   "metadata": {},
   "outputs": [
    {
     "output_type": "execute_result",
     "data": {
      "text/plain": [
       "2.5"
      ]
     },
     "metadata": {},
     "execution_count": 124
    }
   ],
   "source": [
    "# mean of a numpy array having numerical values\n",
    "s = np.arange(1,5)\n",
    "s.mean()"
   ]
  },
  {
   "cell_type": "code",
   "execution_count": 125,
   "metadata": {},
   "outputs": [
    {
     "output_type": "stream",
     "name": "stdout",
     "text": [
      "nan\n------------\n2.0\n"
     ]
    }
   ],
   "source": [
    "# Mean of Numpy array with a NaN array, The output will be NaN because any arithmetic operation with NaN will result in NaN\n",
    "s = np.array([1,2,3,np.NaN])\n",
    "mean_normal = np.mean(s)\n",
    "print(mean_normal)\n",
    "print('------------')\n",
    "# handling the NaN values\n",
    "mean = np.nanmean(s)\n",
    "print(mean)"
   ]
  },
  {
   "source": [
    "# Boolean Operations"
   ],
   "cell_type": "markdown",
   "metadata": {}
  },
  {
   "cell_type": "code",
   "execution_count": 126,
   "metadata": {},
   "outputs": [
    {
     "output_type": "stream",
     "name": "stdout",
     "text": [
      "0    False\n1    False\n2    False\n3    False\n4    False\n5    False\n6     True\n7     True\n8     True\n9     True\ndtype: bool\n*********\n0     True\n1     True\n2     True\n3     True\n4     True\n5    False\n6    False\n7    False\n8    False\n9    False\ndtype: bool\n"
     ]
    }
   ],
   "source": [
    "s = pd.Series(np.arange(0,10))\n",
    "print(s>5) # Finding the values greater than 5 and giving a bool True to them\n",
    "print('*********')\n",
    "print(s<5) # Finding the values greater than 5 and giving a bool True to them"
   ]
  },
  {
   "cell_type": "code",
   "execution_count": 127,
   "metadata": {},
   "outputs": [
    {
     "output_type": "stream",
     "name": "stdout",
     "text": [
      "6    6\n7    7\n8    8\n9    9\ndtype: int64\n------SHort Version--------\n6    6\n7    7\n8    8\n9    9\ndtype: int64\n"
     ]
    }
   ],
   "source": [
    "mask = s>5 # Finding the values greater than 5 and giving a bool True to them and assigning it to a variable\n",
    "print(s[mask])\n",
    "# OR\n",
    "print('------SHort Version--------')\n",
    "print(s[s>5]) # short"
   ]
  },
  {
   "source": [
    "# Reindexing a series\n",
    "\n",
    "Reindexing in Pandas makes the data is series or data frame to be matched with a given set of labels. It makes index alignment across multiple objects. The Process is as follows\n",
    "\n",
    "1. Reorder the data to match a set of index labels\n",
    "2. Insert NaN marker for missing data \n",
    "3. Possibly filling missing data for a label using some type of ;ogic (default is to insert NaN values)"
   ],
   "cell_type": "markdown",
   "metadata": {}
  },
  {
   "cell_type": "code",
   "execution_count": 128,
   "metadata": {},
   "outputs": [
    {
     "output_type": "stream",
     "name": "stdout",
     "text": [
      "0    1.376980\n1    0.291594\n2   -0.970144\n3   -0.544836\n4   -0.620751\ndtype: float64\n--------\na    1.376980\nb    0.291594\nc   -0.970144\nd   -0.544836\ne   -0.620751\ndtype: float64\n"
     ]
    }
   ],
   "source": [
    "s = pd.Series(np.random.randn(5))\n",
    "print(s)\n",
    "print('--------')\n",
    "s.index = ['a', 'b', 'c', 'd', 'e']\n",
    "print(s)"
   ]
  },
  {
   "source": [
    "<h3> Concat function in Pandas</h3>\n",
    "\n",
    "if two series are concatenated, the matching index are duplicated which is not desired"
   ],
   "cell_type": "markdown",
   "metadata": {}
  },
  {
   "cell_type": "code",
   "execution_count": 129,
   "metadata": {},
   "outputs": [
    {
     "output_type": "stream",
     "name": "stdout",
     "text": [
      "0   -0.418913\n1   -1.765102\n2   -0.865710\ndtype: float64\n0    0.686941\n1    0.665573\n2    0.143740\ndtype: float64\n0   -0.418913\n1   -1.765102\n2   -0.865710\n0    0.686941\n1    0.665573\n2    0.143740\ndtype: float64\n"
     ]
    }
   ],
   "source": [
    "s1 = pd.Series(np.random.randn(3))\n",
    "s2 = pd.Series(np.random.randn(3))\n",
    "combined = pd.concat([s1, s2])\n",
    "print(s1)\n",
    "print(s2)\n",
    "print(combined)"
   ]
  },
  {
   "cell_type": "code",
   "execution_count": 130,
   "metadata": {},
   "outputs": [
    {
     "output_type": "stream",
     "name": "stdout",
     "text": [
      "0   -0.418913\n1   -1.765102\n2   -0.865710\n3    0.686941\n4    0.665573\n5    0.143740\ndtype: float64\n"
     ]
    }
   ],
   "source": [
    "combined.index = np.arange(0, len(combined))\n",
    "print(combined)"
   ]
  },
  {
   "source": [
    "# reindex() method\n",
    "\n",
    "Greater flexibility in creating a new index is provided using the .reindex() method. An example of the flexibility of .reindex() over assigning the .index property directly is that the list provided to .reindex() can be of a different length than the number of rows in the Series:"
   ],
   "cell_type": "markdown",
   "metadata": {}
  },
  {
   "cell_type": "code",
   "execution_count": 131,
   "metadata": {},
   "outputs": [
    {
     "output_type": "stream",
     "name": "stdout",
     "text": [
      "a   -0.220012\nb   -0.838076\nc   -1.689415\nd    1.176063\ndtype: float64\na   -0.220012\nc   -1.689415\ng         NaN\ndtype: float64\n"
     ]
    }
   ],
   "source": [
    "s1 = pd.Series(np.random.randn(4), index = ['a', 'b', 'c', 'd'])\n",
    "print(s1)\n",
    "\n",
    "s2 = s1.reindex(['a', 'c', 'g']) # a new series will be made comprised of values form the old series and the matching index's value will be taken and if any index is not in the old one a new index with NaN value will be created. Original will not be modified\n",
    "print(s2)"
   ]
  },
  {
   "cell_type": "code",
   "execution_count": 132,
   "metadata": {},
   "outputs": [
    {
     "output_type": "stream",
     "name": "stdout",
     "text": [
      "9         NaN\n6         NaN\n4    0.665573\n8         NaN\n3    0.686941\n5    0.143740\n1   -1.765102\n9         NaN\n3    0.686941\n5    0.143740\n7         NaN\n3    0.686941\n4    0.665573\n4    0.665573\n6         NaN\n6         NaN\ndtype: float64\n0   -0.418913\n1   -1.765102\n2   -0.865710\n3    0.686941\n4    0.665573\n5    0.143740\ndtype: float64\n"
     ]
    }
   ],
   "source": [
    "# Example from before\n",
    "\n",
    "z = combined.reindex([9,6,4,8,3,5,1,9,3,5,7,3,4,4,6,6])\n",
    "print(z)\n",
    "print(combined) # original remained the same"
   ]
  },
  {
   "source": [
    " Sometimes reindexing does not work because the data type of index are different"
   ],
   "cell_type": "markdown",
   "metadata": {}
  },
  {
   "cell_type": "code",
   "execution_count": 133,
   "metadata": {},
   "outputs": [
    {
     "output_type": "execute_result",
     "data": {
      "text/plain": [
       "1   NaN\n",
       "2   NaN\n",
       "3   NaN\n",
       "1   NaN\n",
       "2   NaN\n",
       "3   NaN\n",
       "dtype: float64"
      ]
     },
     "metadata": {},
     "execution_count": 133
    }
   ],
   "source": [
    "s1 = pd.Series([0,1,2], index = [1,2,3]) # index is integer\n",
    "s2 = pd.Series([0,1,2], index = ['1','2','3']) # index is strings\n",
    "s1 + s2 # all output will be NaN b/c of the fact that there was no matching index, so the operation created a index with a NaN value and anything the NaN touches is NaN."
   ]
  },
  {
   "cell_type": "code",
   "execution_count": 134,
   "metadata": {},
   "outputs": [
    {
     "output_type": "execute_result",
     "data": {
      "text/plain": [
       "1    0\n",
       "2    2\n",
       "3    4\n",
       "dtype: int64"
      ]
     },
     "metadata": {},
     "execution_count": 134
    }
   ],
   "source": [
    "# Fix\n",
    "\n",
    "s2.index = s2.index.values.astype(int) # converted all to integers\n",
    "s1 + s2"
   ]
  },
  {
   "cell_type": "code",
   "execution_count": 140,
   "metadata": {},
   "outputs": [
    {
     "output_type": "execute_result",
     "data": {
      "text/plain": [
       "a    0.775998\n",
       "f    0.000000\n",
       "dtype: float64"
      ]
     },
     "metadata": {},
     "execution_count": 140
    }
   ],
   "source": [
    "# One solution to NaN is to fill with some value like 0 so that if any operations are performed, No data will be lost\n",
    "\n",
    "s = pd.Series(np.random.randn(5), index = ['a','b','c','d','e'])\n",
    "s_indexed = s.reindex(['a','f'], fill_value = 0) # took series s and added an index f and replaced its NaN value by 0\n",
    "s_indexed"
   ]
  },
  {
   "source": [
    "<h3> ffill, bfill & nearest   </h3>"
   ],
   "cell_type": "markdown",
   "metadata": {}
  },
  {
   "cell_type": "code",
   "execution_count": 142,
   "metadata": {},
   "outputs": [
    {
     "output_type": "execute_result",
     "data": {
      "text/plain": [
       "0     a\n",
       "8     b\n",
       "10    c\n",
       "dtype: object"
      ]
     },
     "metadata": {},
     "execution_count": 142
    }
   ],
   "source": [
    "s = pd.Series(['a','b','c'], index = [0,8,10])\n",
    "s"
   ]
  },
  {
   "cell_type": "code",
   "execution_count": 143,
   "metadata": {},
   "outputs": [
    {
     "output_type": "execute_result",
     "data": {
      "text/plain": [
       "0     a\n",
       "1     a\n",
       "2     a\n",
       "3     a\n",
       "4     a\n",
       "5     a\n",
       "6     a\n",
       "7     a\n",
       "8     b\n",
       "9     b\n",
       "10    c\n",
       "11    c\n",
       "12    c\n",
       "13    c\n",
       "14    c\n",
       "dtype: object"
      ]
     },
     "metadata": {},
     "execution_count": 143
    }
   ],
   "source": [
    "s.reindex(np.arange(0,15), method = 'ffill') # will take the first value and start filling the NaN untill next value is met and then will take that next value and start fillinf"
   ]
  },
  {
   "cell_type": "code",
   "execution_count": 144,
   "metadata": {},
   "outputs": [
    {
     "output_type": "execute_result",
     "data": {
      "text/plain": [
       "0    a\n",
       "1    b\n",
       "2    b\n",
       "3    b\n",
       "4    b\n",
       "5    b\n",
       "6    b\n",
       "dtype: object"
      ]
     },
     "metadata": {},
     "execution_count": 144
    }
   ],
   "source": [
    "s.reindex(np.arange(0,7), method = 'bfill') # will start from bottom of the series and do the same"
   ]
  },
  {
   "cell_type": "code",
   "execution_count": 145,
   "metadata": {},
   "outputs": [
    {
     "output_type": "execute_result",
     "data": {
      "text/plain": [
       "0    a\n",
       "1    a\n",
       "2    a\n",
       "3    a\n",
       "4    b\n",
       "5    b\n",
       "6    b\n",
       "7    b\n",
       "8    b\n",
       "9    c\n",
       "dtype: object"
      ]
     },
     "metadata": {},
     "execution_count": 145
    }
   ],
   "source": [
    "s.reindex(np.arange(0,10), method = 'nearest') # use nearest valid observations to fill gap"
   ]
  },
  {
   "source": [
    "# Slicing a Series"
   ],
   "cell_type": "markdown",
   "metadata": {}
  },
  {
   "cell_type": "code",
   "execution_count": null,
   "metadata": {},
   "outputs": [],
   "source": [
    "# Creating a series with index not starting form 0\n",
    "# using position based slicing"
   ]
  },
  {
   "cell_type": "code",
   "execution_count": 155,
   "metadata": {},
   "outputs": [
    {
     "output_type": "stream",
     "name": "stdout",
     "text": [
      "20    0\n21    1\n22    2\n23    3\n24    4\n25    5\n26    6\n27    7\n28    8\n29    9\ndtype: int64\n------------\n20    0\n22    2\n24    4\ndtype: int64\n------------\n20    0\n22    2\n24    4\ndtype: int64\n------------\n20    0\n21    1\n22    2\n23    3\n24    4\ndtype: int64\n------------\n21    1\n24    4\n27    7\n22    2\ndtype: int64\n"
     ]
    }
   ],
   "source": [
    "s = pd.Series(np.arange(0,10), index = np.arange(20,30))\n",
    "print(s)\n",
    "print('------------')\n",
    "print(s[0:6:2]) # go from 0 to 6th wiht step of 2\n",
    "print('------------')\n",
    "print(s.iloc[[0,2,4]]) # same as above but with iloc\n",
    "print('------------')\n",
    "print(s[:5]) # first five\n",
    "print('------------')\n",
    "print(s[[21,24,27,22]]) # Fancy indexing"
   ]
  },
  {
   "cell_type": "code",
   "execution_count": null,
   "metadata": {},
   "outputs": [],
   "source": [
    "1"
   ]
  }
 ]
}